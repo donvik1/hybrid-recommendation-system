{
 "cells": [
  {
   "cell_type": "code",
   "execution_count": 1,
   "id": "12a089cb",
   "metadata": {},
   "outputs": [],
   "source": [
    "# imports\n",
    "import pandas as pd\n",
    "import numpy as np\n",
    "import seaborn as sns\n",
    "import random\n",
    "import matplotlib.pyplot as plt\n",
    "from sklearn.model_selection import train_test_split\n",
    "from sklearn.preprocessing import MinMaxScaler\n",
    "from sklearn.metrics import mean_absolute_error, mean_squared_error\n",
    "from surprise import Reader, Dataset, SVD\n",
    "from surprise.model_selection import cross_validate, GridSearchCV"
   ]
  },
  {
   "cell_type": "code",
   "execution_count": 2,
   "id": "be12c388",
   "metadata": {},
   "outputs": [],
   "source": [
    "# Load the files\n",
    "category_tree = pd.read_csv('archive/category_tree.csv')\n",
    "\n",
    "events = pd.read_csv('archive/events.csv')\n",
    "item_properties_part1 = pd.read_csv('archive/item_properties_part1.csv')\n",
    "item_properties_part2 = pd.read_csv('archive/item_properties_part2.csv')\n",
    "\n",
    "# join the 2 item property files \n",
    "item_properties = pd.concat([item_properties_part1, item_properties_part2])"
   ]
  },
  {
   "cell_type": "code",
   "execution_count": 14,
   "id": "65377589",
   "metadata": {},
   "outputs": [
    {
     "data": {
      "text/html": [
       "<div>\n",
       "<style scoped>\n",
       "    .dataframe tbody tr th:only-of-type {\n",
       "        vertical-align: middle;\n",
       "    }\n",
       "\n",
       "    .dataframe tbody tr th {\n",
       "        vertical-align: top;\n",
       "    }\n",
       "\n",
       "    .dataframe thead th {\n",
       "        text-align: right;\n",
       "    }\n",
       "</style>\n",
       "<table border=\"1\" class=\"dataframe\">\n",
       "  <thead>\n",
       "    <tr style=\"text-align: right;\">\n",
       "      <th></th>\n",
       "      <th>categoryid</th>\n",
       "      <th>parentid</th>\n",
       "    </tr>\n",
       "  </thead>\n",
       "  <tbody>\n",
       "    <tr>\n",
       "      <th>0</th>\n",
       "      <td>1016</td>\n",
       "      <td>213.0</td>\n",
       "    </tr>\n",
       "    <tr>\n",
       "      <th>1</th>\n",
       "      <td>809</td>\n",
       "      <td>169.0</td>\n",
       "    </tr>\n",
       "    <tr>\n",
       "      <th>2</th>\n",
       "      <td>570</td>\n",
       "      <td>9.0</td>\n",
       "    </tr>\n",
       "    <tr>\n",
       "      <th>3</th>\n",
       "      <td>1691</td>\n",
       "      <td>885.0</td>\n",
       "    </tr>\n",
       "    <tr>\n",
       "      <th>4</th>\n",
       "      <td>536</td>\n",
       "      <td>1691.0</td>\n",
       "    </tr>\n",
       "  </tbody>\n",
       "</table>\n",
       "</div>"
      ],
      "text/plain": [
       "   categoryid  parentid\n",
       "0        1016     213.0\n",
       "1         809     169.0\n",
       "2         570       9.0\n",
       "3        1691     885.0\n",
       "4         536    1691.0"
      ]
     },
     "execution_count": 14,
     "metadata": {},
     "output_type": "execute_result"
    }
   ],
   "source": [
    "# item_properties.head()\n",
    "category_tree.head()\n"
   ]
  },
  {
   "cell_type": "code",
   "execution_count": 15,
   "id": "a09aa247",
   "metadata": {},
   "outputs": [
    {
     "data": {
      "text/html": [
       "<div>\n",
       "<style scoped>\n",
       "    .dataframe tbody tr th:only-of-type {\n",
       "        vertical-align: middle;\n",
       "    }\n",
       "\n",
       "    .dataframe tbody tr th {\n",
       "        vertical-align: top;\n",
       "    }\n",
       "\n",
       "    .dataframe thead th {\n",
       "        text-align: right;\n",
       "    }\n",
       "</style>\n",
       "<table border=\"1\" class=\"dataframe\">\n",
       "  <thead>\n",
       "    <tr style=\"text-align: right;\">\n",
       "      <th></th>\n",
       "      <th>timestamp</th>\n",
       "      <th>itemid</th>\n",
       "      <th>property</th>\n",
       "      <th>value</th>\n",
       "    </tr>\n",
       "  </thead>\n",
       "  <tbody>\n",
       "    <tr>\n",
       "      <th>0</th>\n",
       "      <td>1435460400000</td>\n",
       "      <td>460429</td>\n",
       "      <td>categoryid</td>\n",
       "      <td>1338</td>\n",
       "    </tr>\n",
       "    <tr>\n",
       "      <th>1</th>\n",
       "      <td>1441508400000</td>\n",
       "      <td>206783</td>\n",
       "      <td>888</td>\n",
       "      <td>1116713 960601 n277.200</td>\n",
       "    </tr>\n",
       "    <tr>\n",
       "      <th>2</th>\n",
       "      <td>1439089200000</td>\n",
       "      <td>395014</td>\n",
       "      <td>400</td>\n",
       "      <td>n552.000 639502 n720.000 424566</td>\n",
       "    </tr>\n",
       "    <tr>\n",
       "      <th>3</th>\n",
       "      <td>1431226800000</td>\n",
       "      <td>59481</td>\n",
       "      <td>790</td>\n",
       "      <td>n15360.000</td>\n",
       "    </tr>\n",
       "    <tr>\n",
       "      <th>4</th>\n",
       "      <td>1431831600000</td>\n",
       "      <td>156781</td>\n",
       "      <td>917</td>\n",
       "      <td>828513</td>\n",
       "    </tr>\n",
       "  </tbody>\n",
       "</table>\n",
       "</div>"
      ],
      "text/plain": [
       "       timestamp  itemid    property                            value\n",
       "0  1435460400000  460429  categoryid                             1338\n",
       "1  1441508400000  206783         888          1116713 960601 n277.200\n",
       "2  1439089200000  395014         400  n552.000 639502 n720.000 424566\n",
       "3  1431226800000   59481         790                       n15360.000\n",
       "4  1431831600000  156781         917                           828513"
      ]
     },
     "execution_count": 15,
     "metadata": {},
     "output_type": "execute_result"
    }
   ],
   "source": [
    "item_properties.head()"
   ]
  },
  {
   "cell_type": "code",
   "execution_count": 7,
   "id": "cc6040a5",
   "metadata": {},
   "outputs": [
    {
     "data": {
      "text/html": [
       "<div>\n",
       "<style scoped>\n",
       "    .dataframe tbody tr th:only-of-type {\n",
       "        vertical-align: middle;\n",
       "    }\n",
       "\n",
       "    .dataframe tbody tr th {\n",
       "        vertical-align: top;\n",
       "    }\n",
       "\n",
       "    .dataframe thead th {\n",
       "        text-align: right;\n",
       "    }\n",
       "</style>\n",
       "<table border=\"1\" class=\"dataframe\">\n",
       "  <thead>\n",
       "    <tr style=\"text-align: right;\">\n",
       "      <th></th>\n",
       "      <th>timestamp</th>\n",
       "      <th>visitorid</th>\n",
       "      <th>event</th>\n",
       "      <th>itemid</th>\n",
       "      <th>transactionid</th>\n",
       "    </tr>\n",
       "  </thead>\n",
       "  <tbody>\n",
       "    <tr>\n",
       "      <th>0</th>\n",
       "      <td>1433221332117</td>\n",
       "      <td>257597</td>\n",
       "      <td>view</td>\n",
       "      <td>355908</td>\n",
       "      <td>NaN</td>\n",
       "    </tr>\n",
       "    <tr>\n",
       "      <th>1</th>\n",
       "      <td>1433224214164</td>\n",
       "      <td>992329</td>\n",
       "      <td>view</td>\n",
       "      <td>248676</td>\n",
       "      <td>NaN</td>\n",
       "    </tr>\n",
       "    <tr>\n",
       "      <th>2</th>\n",
       "      <td>1433221999827</td>\n",
       "      <td>111016</td>\n",
       "      <td>view</td>\n",
       "      <td>318965</td>\n",
       "      <td>NaN</td>\n",
       "    </tr>\n",
       "    <tr>\n",
       "      <th>3</th>\n",
       "      <td>1433221955914</td>\n",
       "      <td>483717</td>\n",
       "      <td>view</td>\n",
       "      <td>253185</td>\n",
       "      <td>NaN</td>\n",
       "    </tr>\n",
       "    <tr>\n",
       "      <th>4</th>\n",
       "      <td>1433221337106</td>\n",
       "      <td>951259</td>\n",
       "      <td>view</td>\n",
       "      <td>367447</td>\n",
       "      <td>NaN</td>\n",
       "    </tr>\n",
       "  </tbody>\n",
       "</table>\n",
       "</div>"
      ],
      "text/plain": [
       "       timestamp  visitorid event  itemid  transactionid\n",
       "0  1433221332117     257597  view  355908            NaN\n",
       "1  1433224214164     992329  view  248676            NaN\n",
       "2  1433221999827     111016  view  318965            NaN\n",
       "3  1433221955914     483717  view  253185            NaN\n",
       "4  1433221337106     951259  view  367447            NaN"
      ]
     },
     "execution_count": 7,
     "metadata": {},
     "output_type": "execute_result"
    }
   ],
   "source": [
    "events.head()"
   ]
  },
  {
   "cell_type": "code",
   "execution_count": 9,
   "id": "3ff146ca",
   "metadata": {},
   "outputs": [
    {
     "data": {
      "text/plain": [
       "235061"
      ]
     },
     "execution_count": 9,
     "metadata": {},
     "output_type": "execute_result"
    }
   ],
   "source": [
    "events.itemid.nunique()"
   ]
  },
  {
   "cell_type": "code",
   "execution_count": 60,
   "id": "eef9a833",
   "metadata": {},
   "outputs": [
    {
     "data": {
      "text/html": [
       "<div>\n",
       "<style scoped>\n",
       "    .dataframe tbody tr th:only-of-type {\n",
       "        vertical-align: middle;\n",
       "    }\n",
       "\n",
       "    .dataframe tbody tr th {\n",
       "        vertical-align: top;\n",
       "    }\n",
       "\n",
       "    .dataframe thead th {\n",
       "        text-align: right;\n",
       "    }\n",
       "</style>\n",
       "<table border=\"1\" class=\"dataframe\">\n",
       "  <thead>\n",
       "    <tr style=\"text-align: right;\">\n",
       "      <th></th>\n",
       "      <th>timestamp</th>\n",
       "      <th>visitorid</th>\n",
       "      <th>event</th>\n",
       "      <th>itemid</th>\n",
       "      <th>transactionid</th>\n",
       "      <th>date_time</th>\n",
       "    </tr>\n",
       "  </thead>\n",
       "  <tbody>\n",
       "    <tr>\n",
       "      <th>0</th>\n",
       "      <td>1433221332117</td>\n",
       "      <td>257597</td>\n",
       "      <td>view</td>\n",
       "      <td>355908</td>\n",
       "      <td>NaN</td>\n",
       "      <td>2015-06-02 05:02:12.117</td>\n",
       "    </tr>\n",
       "    <tr>\n",
       "      <th>1</th>\n",
       "      <td>1433224214164</td>\n",
       "      <td>992329</td>\n",
       "      <td>view</td>\n",
       "      <td>248676</td>\n",
       "      <td>NaN</td>\n",
       "      <td>2015-06-02 05:50:14.164</td>\n",
       "    </tr>\n",
       "  </tbody>\n",
       "</table>\n",
       "</div>"
      ],
      "text/plain": [
       "       timestamp  visitorid event  itemid  transactionid  \\\n",
       "0  1433221332117     257597  view  355908            NaN   \n",
       "1  1433224214164     992329  view  248676            NaN   \n",
       "\n",
       "                date_time  \n",
       "0 2015-06-02 05:02:12.117  \n",
       "1 2015-06-02 05:50:14.164  "
      ]
     },
     "execution_count": 60,
     "metadata": {},
     "output_type": "execute_result"
    }
   ],
   "source": [
    "# convert timestamp to readable dates\n",
    "events['date_time'] = pd.to_datetime(events['timestamp'],unit='ms')\n",
    "events.head(2)"
   ]
  },
  {
   "cell_type": "code",
   "execution_count": 61,
   "id": "59af1559",
   "metadata": {},
   "outputs": [
    {
     "data": {
      "text/html": [
       "<div>\n",
       "<style scoped>\n",
       "    .dataframe tbody tr th:only-of-type {\n",
       "        vertical-align: middle;\n",
       "    }\n",
       "\n",
       "    .dataframe tbody tr th {\n",
       "        vertical-align: top;\n",
       "    }\n",
       "\n",
       "    .dataframe thead th {\n",
       "        text-align: right;\n",
       "    }\n",
       "</style>\n",
       "<table border=\"1\" class=\"dataframe\">\n",
       "  <thead>\n",
       "    <tr style=\"text-align: right;\">\n",
       "      <th></th>\n",
       "      <th>timestamp</th>\n",
       "      <th>visitorid</th>\n",
       "      <th>itemid</th>\n",
       "      <th>transactionid</th>\n",
       "    </tr>\n",
       "  </thead>\n",
       "  <tbody>\n",
       "    <tr>\n",
       "      <th>count</th>\n",
       "      <td>2.756101e+06</td>\n",
       "      <td>2.756101e+06</td>\n",
       "      <td>2.756101e+06</td>\n",
       "      <td>22457.000000</td>\n",
       "    </tr>\n",
       "    <tr>\n",
       "      <th>mean</th>\n",
       "      <td>1.436424e+12</td>\n",
       "      <td>7.019229e+05</td>\n",
       "      <td>2.349225e+05</td>\n",
       "      <td>8826.497796</td>\n",
       "    </tr>\n",
       "    <tr>\n",
       "      <th>std</th>\n",
       "      <td>3.366312e+09</td>\n",
       "      <td>4.056875e+05</td>\n",
       "      <td>1.341954e+05</td>\n",
       "      <td>5098.996290</td>\n",
       "    </tr>\n",
       "    <tr>\n",
       "      <th>min</th>\n",
       "      <td>1.430622e+12</td>\n",
       "      <td>0.000000e+00</td>\n",
       "      <td>3.000000e+00</td>\n",
       "      <td>0.000000</td>\n",
       "    </tr>\n",
       "    <tr>\n",
       "      <th>25%</th>\n",
       "      <td>1.433478e+12</td>\n",
       "      <td>3.505660e+05</td>\n",
       "      <td>1.181200e+05</td>\n",
       "      <td>4411.000000</td>\n",
       "    </tr>\n",
       "    <tr>\n",
       "      <th>50%</th>\n",
       "      <td>1.436453e+12</td>\n",
       "      <td>7.020600e+05</td>\n",
       "      <td>2.360670e+05</td>\n",
       "      <td>8813.000000</td>\n",
       "    </tr>\n",
       "    <tr>\n",
       "      <th>75%</th>\n",
       "      <td>1.439225e+12</td>\n",
       "      <td>1.053437e+06</td>\n",
       "      <td>3.507150e+05</td>\n",
       "      <td>13224.000000</td>\n",
       "    </tr>\n",
       "    <tr>\n",
       "      <th>max</th>\n",
       "      <td>1.442545e+12</td>\n",
       "      <td>1.407579e+06</td>\n",
       "      <td>4.668670e+05</td>\n",
       "      <td>17671.000000</td>\n",
       "    </tr>\n",
       "  </tbody>\n",
       "</table>\n",
       "</div>"
      ],
      "text/plain": [
       "          timestamp     visitorid        itemid  transactionid\n",
       "count  2.756101e+06  2.756101e+06  2.756101e+06   22457.000000\n",
       "mean   1.436424e+12  7.019229e+05  2.349225e+05    8826.497796\n",
       "std    3.366312e+09  4.056875e+05  1.341954e+05    5098.996290\n",
       "min    1.430622e+12  0.000000e+00  3.000000e+00       0.000000\n",
       "25%    1.433478e+12  3.505660e+05  1.181200e+05    4411.000000\n",
       "50%    1.436453e+12  7.020600e+05  2.360670e+05    8813.000000\n",
       "75%    1.439225e+12  1.053437e+06  3.507150e+05   13224.000000\n",
       "max    1.442545e+12  1.407579e+06  4.668670e+05   17671.000000"
      ]
     },
     "execution_count": 61,
     "metadata": {},
     "output_type": "execute_result"
    }
   ],
   "source": [
    "events.describe()"
   ]
  },
  {
   "cell_type": "code",
   "execution_count": 62,
   "id": "7a80e52e",
   "metadata": {},
   "outputs": [
    {
     "data": {
      "text/plain": [
       "(2756101, 6)"
      ]
     },
     "execution_count": 62,
     "metadata": {},
     "output_type": "execute_result"
    }
   ],
   "source": [
    "events.shape"
   ]
  },
  {
   "cell_type": "code",
   "execution_count": 63,
   "id": "fc932b0c",
   "metadata": {},
   "outputs": [
    {
     "data": {
      "text/plain": [
       "(2755641, 6)"
      ]
     },
     "execution_count": 63,
     "metadata": {},
     "output_type": "execute_result"
    }
   ],
   "source": [
    "# remove duplicate rows\n",
    "events.drop_duplicates(inplace=True)\n",
    "events.shape"
   ]
  },
  {
   "cell_type": "code",
   "execution_count": 64,
   "id": "b7070072",
   "metadata": {},
   "outputs": [
    {
     "data": {
      "image/png": "[encoded data removed]",
      "text/plain": [
       "<Figure size 360x360 with 1 Axes>"
      ]
     },
     "metadata": {},
     "output_type": "display_data"
    }
   ],
   "source": [
    "# Event Distribution\n",
    "event_counts = events['event'].value_counts()\n",
    "event_percentage = (event_counts / len(events) * 100)\n",
    "plt.figure(figsize=(5, 5))\n",
    "event_percentage.plot(kind='pie', autopct='%1.1f%%', startangle=50)\n",
    "plt.title('Event Type Distribution')\n",
    "plt.show()"
   ]
  },
  {
   "cell_type": "code",
   "execution_count": 65,
   "id": "58c9fc03",
   "metadata": {},
   "outputs": [
    {
     "data": {
      "image/png": "[encoded data removed]",
      "text/plain": [
       "<Figure size 720x432 with 1 Axes>"
      ]
     },
     "metadata": {
      "needs_background": "light"
     },
     "output_type": "display_data"
    }
   ],
   "source": [
    "# Most viewed items by users\n",
    "top_viewed_items = events[events['event'] == 'view']['itemid'].value_counts().head(10)\n",
    "plt.figure(figsize=(10, 6))\n",
    "sns.barplot(x=top_viewed_items.index, y=top_viewed_items.values)\n",
    "plt.title('Top 10 Viewed Items')\n",
    "plt.xlabel('Item ID')\n",
    "plt.ylabel('Number of Views')\n",
    "plt.show()"
   ]
  },
  {
   "cell_type": "code",
   "execution_count": 66,
   "id": "49722385",
   "metadata": {},
   "outputs": [
    {
     "data": {
      "image/png": "[encoded data removed]",
      "text/plain": [
       "<Figure size 720x432 with 1 Axes>"
      ]
     },
     "metadata": {
      "needs_background": "light"
     },
     "output_type": "display_data"
    }
   ],
   "source": [
    "# Most sold items\n",
    "top_sold_items = events[events['event'] == 'transaction']['itemid'].value_counts().head(10)\n",
    "plt.figure(figsize=(10, 6))\n",
    "sns.barplot(x=top_sold_items.index, y=top_sold_items.values)\n",
    "plt.title('Top 10 Sold Items')\n",
    "plt.xlabel('Item ID')\n",
    "plt.ylabel('Number of Transactions')\n",
    "plt.show()"
   ]
  },
  {
   "cell_type": "code",
   "execution_count": 67,
   "id": "acaa73e1",
   "metadata": {},
   "outputs": [
    {
     "data": {
      "image/png": "[encoded data removed]",
      "text/plain": [
       "<Figure size 720x432 with 1 Axes>"
      ]
     },
     "metadata": {
      "needs_background": "light"
     },
     "output_type": "display_data"
    }
   ],
   "source": [
    "# most added to cart items\n",
    "top_atc_items = events[events['event'] == 'addtocart']['itemid'].value_counts().head(10)\n",
    "plt.figure(figsize=(10, 6))\n",
    "sns.barplot(x=top_viewed_items.index, y=top_viewed_items.values)\n",
    "plt.title('Top 10 Added to Cart Items')\n",
    "plt.xlabel('Item ID')\n",
    "plt.ylabel('Number of Views')\n",
    "plt.show()"
   ]
  },
  {
   "cell_type": "code",
   "execution_count": 68,
   "id": "2d41e9a6",
   "metadata": {},
   "outputs": [
    {
     "data": {
      "text/html": [
       "<div>\n",
       "<style scoped>\n",
       "    .dataframe tbody tr th:only-of-type {\n",
       "        vertical-align: middle;\n",
       "    }\n",
       "\n",
       "    .dataframe tbody tr th {\n",
       "        vertical-align: top;\n",
       "    }\n",
       "\n",
       "    .dataframe thead th {\n",
       "        text-align: right;\n",
       "    }\n",
       "</style>\n",
       "<table border=\"1\" class=\"dataframe\">\n",
       "  <thead>\n",
       "    <tr style=\"text-align: right;\">\n",
       "      <th></th>\n",
       "      <th>visitorid</th>\n",
       "      <th>itemid</th>\n",
       "      <th>date_time</th>\n",
       "    </tr>\n",
       "  </thead>\n",
       "  <tbody>\n",
       "    <tr>\n",
       "      <th>130</th>\n",
       "      <td>599528</td>\n",
       "      <td>356475</td>\n",
       "      <td>2015-06-02 05:17:56.276</td>\n",
       "    </tr>\n",
       "    <tr>\n",
       "      <th>304</th>\n",
       "      <td>121688</td>\n",
       "      <td>15335</td>\n",
       "      <td>2015-06-01 21:18:20.981</td>\n",
       "    </tr>\n",
       "    <tr>\n",
       "      <th>418</th>\n",
       "      <td>552148</td>\n",
       "      <td>81345</td>\n",
       "      <td>2015-06-01 21:25:15.008</td>\n",
       "    </tr>\n",
       "    <tr>\n",
       "      <th>814</th>\n",
       "      <td>102019</td>\n",
       "      <td>150318</td>\n",
       "      <td>2015-06-01 16:38:56.375</td>\n",
       "    </tr>\n",
       "    <tr>\n",
       "      <th>843</th>\n",
       "      <td>189384</td>\n",
       "      <td>310791</td>\n",
       "      <td>2015-06-01 16:01:58.180</td>\n",
       "    </tr>\n",
       "  </tbody>\n",
       "</table>\n",
       "</div>"
      ],
      "text/plain": [
       "     visitorid  itemid               date_time\n",
       "130     599528  356475 2015-06-02 05:17:56.276\n",
       "304     121688   15335 2015-06-01 21:18:20.981\n",
       "418     552148   81345 2015-06-01 21:25:15.008\n",
       "814     102019  150318 2015-06-01 16:38:56.375\n",
       "843     189384  310791 2015-06-01 16:01:58.180"
      ]
     },
     "execution_count": 68,
     "metadata": {},
     "output_type": "execute_result"
    }
   ],
   "source": [
    "#It allows you to focus on data related to transaction events for further analysis or processing.\n",
    "\n",
    "item_tra=events[['visitorid','itemid','date_time']][events['event']=='transaction']\n",
    "item_tra.head()"
   ]
  },
  {
   "cell_type": "code",
   "execution_count": 69,
   "id": "5d394c59",
   "metadata": {},
   "outputs": [],
   "source": [
    "# Merge events with item properties and category tree\n",
    "merged_data = events.merge(item_properties, on=['itemid', 'timestamp'], how='left').merge(category_tree, left_on='property', right_on='categoryid', how='left')"
   ]
  },
  {
   "cell_type": "code",
   "execution_count": 70,
   "id": "1aff7856",
   "metadata": {},
   "outputs": [
    {
     "data": {
      "text/html": [
       "<div>\n",
       "<style scoped>\n",
       "    .dataframe tbody tr th:only-of-type {\n",
       "        vertical-align: middle;\n",
       "    }\n",
       "\n",
       "    .dataframe tbody tr th {\n",
       "        vertical-align: top;\n",
       "    }\n",
       "\n",
       "    .dataframe thead th {\n",
       "        text-align: right;\n",
       "    }\n",
       "</style>\n",
       "<table border=\"1\" class=\"dataframe\">\n",
       "  <thead>\n",
       "    <tr style=\"text-align: right;\">\n",
       "      <th></th>\n",
       "      <th>timestamp</th>\n",
       "      <th>visitorid</th>\n",
       "      <th>event</th>\n",
       "      <th>itemid</th>\n",
       "      <th>transactionid</th>\n",
       "      <th>date_time</th>\n",
       "      <th>property</th>\n",
       "      <th>value</th>\n",
       "      <th>categoryid</th>\n",
       "      <th>parentid</th>\n",
       "    </tr>\n",
       "  </thead>\n",
       "  <tbody>\n",
       "    <tr>\n",
       "      <th>0</th>\n",
       "      <td>1433221332117</td>\n",
       "      <td>257597</td>\n",
       "      <td>view</td>\n",
       "      <td>355908</td>\n",
       "      <td>NaN</td>\n",
       "      <td>2015-06-02 05:02:12.117</td>\n",
       "      <td>NaN</td>\n",
       "      <td>NaN</td>\n",
       "      <td>NaN</td>\n",
       "      <td>NaN</td>\n",
       "    </tr>\n",
       "    <tr>\n",
       "      <th>1</th>\n",
       "      <td>1433224214164</td>\n",
       "      <td>992329</td>\n",
       "      <td>view</td>\n",
       "      <td>248676</td>\n",
       "      <td>NaN</td>\n",
       "      <td>2015-06-02 05:50:14.164</td>\n",
       "      <td>NaN</td>\n",
       "      <td>NaN</td>\n",
       "      <td>NaN</td>\n",
       "      <td>NaN</td>\n",
       "    </tr>\n",
       "    <tr>\n",
       "      <th>2</th>\n",
       "      <td>1433221999827</td>\n",
       "      <td>111016</td>\n",
       "      <td>view</td>\n",
       "      <td>318965</td>\n",
       "      <td>NaN</td>\n",
       "      <td>2015-06-02 05:13:19.827</td>\n",
       "      <td>NaN</td>\n",
       "      <td>NaN</td>\n",
       "      <td>NaN</td>\n",
       "      <td>NaN</td>\n",
       "    </tr>\n",
       "    <tr>\n",
       "      <th>3</th>\n",
       "      <td>1433221955914</td>\n",
       "      <td>483717</td>\n",
       "      <td>view</td>\n",
       "      <td>253185</td>\n",
       "      <td>NaN</td>\n",
       "      <td>2015-06-02 05:12:35.914</td>\n",
       "      <td>NaN</td>\n",
       "      <td>NaN</td>\n",
       "      <td>NaN</td>\n",
       "      <td>NaN</td>\n",
       "    </tr>\n",
       "    <tr>\n",
       "      <th>4</th>\n",
       "      <td>1433221337106</td>\n",
       "      <td>951259</td>\n",
       "      <td>view</td>\n",
       "      <td>367447</td>\n",
       "      <td>NaN</td>\n",
       "      <td>2015-06-02 05:02:17.106</td>\n",
       "      <td>NaN</td>\n",
       "      <td>NaN</td>\n",
       "      <td>NaN</td>\n",
       "      <td>NaN</td>\n",
       "    </tr>\n",
       "  </tbody>\n",
       "</table>\n",
       "</div>"
      ],
      "text/plain": [
       "       timestamp  visitorid event  itemid  transactionid  \\\n",
       "0  1433221332117     257597  view  355908            NaN   \n",
       "1  1433224214164     992329  view  248676            NaN   \n",
       "2  1433221999827     111016  view  318965            NaN   \n",
       "3  1433221955914     483717  view  253185            NaN   \n",
       "4  1433221337106     951259  view  367447            NaN   \n",
       "\n",
       "                date_time property value  categoryid  parentid  \n",
       "0 2015-06-02 05:02:12.117      NaN   NaN         NaN       NaN  \n",
       "1 2015-06-02 05:50:14.164      NaN   NaN         NaN       NaN  \n",
       "2 2015-06-02 05:13:19.827      NaN   NaN         NaN       NaN  \n",
       "3 2015-06-02 05:12:35.914      NaN   NaN         NaN       NaN  \n",
       "4 2015-06-02 05:02:17.106      NaN   NaN         NaN       NaN  "
      ]
     },
     "execution_count": 70,
     "metadata": {},
     "output_type": "execute_result"
    }
   ],
   "source": [
    "merged_data.head()"
   ]
  },
  {
   "cell_type": "code",
   "execution_count": 71,
   "id": "bf2d3a5d",
   "metadata": {},
   "outputs": [
    {
     "data": {
      "text/plain": [
       "(2755641, 10)"
      ]
     },
     "execution_count": 71,
     "metadata": {},
     "output_type": "execute_result"
    }
   ],
   "source": [
    "merged_data.shape"
   ]
  },
  {
   "cell_type": "code",
   "execution_count": 72,
   "id": "726a4f91",
   "metadata": {
    "scrolled": false
   },
   "outputs": [
    {
     "data": {
      "image/png": "[encoded data removed]",
      "text/plain": [
       "<Figure size 720x432 with 2 Axes>"
      ]
     },
     "metadata": {
      "needs_background": "light"
     },
     "output_type": "display_data"
    },
    {
     "name": "stdout",
     "output_type": "stream",
     "text": [
      "Add-to-cart to transaction conversion rate: 32.56%\n"
     ]
    },
    {
     "data": {
      "image/png": "[encoded data removed]",
      "text/plain": [
       "<Figure size 720x432 with 1 Axes>"
      ]
     },
     "metadata": {
      "needs_background": "light"
     },
     "output_type": "display_data"
    },
    {
     "data": {
      "image/png": "[encoded data removed]",
      "text/plain": [
       "<Figure size 720x432 with 1 Axes>"
      ]
     },
     "metadata": {
      "needs_background": "light"
     },
     "output_type": "display_data"
    },
    {
     "data": {
      "image/png": "[encoded data removed]",
      "text/plain": [
       "<Figure size 720x432 with 1 Axes>"
      ]
     },
     "metadata": {
      "needs_background": "light"
     },
     "output_type": "display_data"
    },
    {
     "data": {
      "image/png": "[encoded data removed]",
      "text/plain": [
       "<Figure size 720x432 with 1 Axes>"
      ]
     },
     "metadata": {
      "needs_background": "light"
     },
     "output_type": "display_data"
    }
   ],
   "source": [
    "# Correlation between user attributes and item attributes\n",
    "user_item_merged = merged_data.groupby('visitorid').agg({\n",
    "    'itemid': 'count',\n",
    "    'property': 'nunique',\n",
    "    'parentid': 'nunique',\n",
    "})\n",
    "\n",
    "correlation_matrix = user_item_merged.corr()\n",
    "plt.figure(figsize=(10, 6))\n",
    "sns.heatmap(correlation_matrix, annot=True, cmap='coolwarm')\n",
    "plt.title('Correlation between User Attributes and Item Attributes')\n",
    "plt.show()\n",
    "\n",
    "# Add-to-cart to transaction conversion rate\n",
    "add_to_cart = events[events['event'] == 'addtocart']\n",
    "transactions = events[events['event'] == 'transaction']\n",
    "conversion_rate = len(transactions) / len(add_to_cart)\n",
    "\n",
    "print(f\"Add-to-cart to transaction conversion rate: {conversion_rate:.2%}\")\n",
    "\n",
    "#  Most active users\n",
    "top_active_users = events['visitorid'].value_counts().head(10)\n",
    "plt.figure(figsize=(10, 6))\n",
    "sns.barplot(x=top_active_users.index, y=top_active_users.values)\n",
    "plt.title('Top 10 Most Active Users')\n",
    "plt.xlabel('User ID')\n",
    "plt.ylabel('Number of Events')\n",
    "plt.show()\n",
    "\n",
    "# Distribution of events per user\n",
    "events_per_user = events['visitorid'].value_counts()\n",
    "plt.figure(figsize=(10, 6))\n",
    "sns.histplot(events_per_user, kde=False, bins=50)\n",
    "plt.title('Distribution of Events per User')\n",
    "plt.xlabel('Number of Events')\n",
    "plt.ylabel('Number of Users')\n",
    "plt.show()\n",
    "\n",
    "# Distribution of viewed items per user\n",
    "viewed_items_per_user = events[events['event'] == 'view'].groupby('visitorid')['itemid'].nunique()\n",
    "plt.figure(figsize=(10, 6))\n",
    "sns.histplot(viewed_items_per_user, kde=False, bins=50)\n",
    "plt.title('Distribution of Viewed Items per User')\n",
    "plt.xlabel('Number of Unique Items Viewed')\n",
    "plt.ylabel('Number of Users')\n",
    "plt.show()\n",
    "\n",
    "# Distribution of purchased items per user\n",
    "purchased_items_per_user = events[events['event'] == 'transaction'].groupby('visitorid')['itemid'].nunique()\n",
    "plt.figure(figsize=(10, 6))\n",
    "sns.histplot(purchased_items_per_user, kde=False, bins=50)\n",
    "plt.title('Distribution of Purchased Items per User')\n",
    "plt.xlabel('Number of Unique Items Purchased')\n",
    "plt.ylabel('Number of Users')\n",
    "plt.show()"
   ]
  },
  {
   "cell_type": "code",
   "execution_count": 78,
   "id": "af5143a3",
   "metadata": {},
   "outputs": [],
   "source": [
    "# copy the merged data into a new dataframe\n",
    "df = merged_data.copy()"
   ]
  },
  {
   "cell_type": "code",
   "execution_count": 79,
   "id": "3e2e6ea8",
   "metadata": {},
   "outputs": [],
   "source": [
    "# Feature engineering\n",
    "## User-based features\n",
    "user_behavior = df.groupby('visitorid').agg({\n",
    "    'itemid': 'count',\n",
    "    'property': 'nunique',\n",
    "    'parentid': 'nunique',\n",
    "    'timestamp': ['min', 'max', 'mean']\n",
    "}).reset_index()\n",
    "\n",
    "user_behavior.columns = ['visitorid', 'item_count', 'property_count', 'category_count', 'first_interaction', 'last_interaction', 'avg_interaction_time']\n",
    "user_behavior['time_on_platform'] = user_behavior['last_interaction'] - user_behavior['first_interaction']\n",
    "user_behavior['time_between_actions'] = user_behavior['time_on_platform'] / (user_behavior['item_count'] - 1)\n",
    "\n",
    "## Item-based features\n",
    "item_popularity = df.groupby('itemid').agg({\n",
    "    'visitorid': 'count',\n",
    "    'event': ['nunique', lambda x: sum(x == 'view'), lambda x: sum(x == 'addtocart'), lambda x: sum(x == 'transaction')]\n",
    "}).reset_index()\n",
    "\n",
    "item_popularity.columns = ['itemid', 'user_count', 'event_count', 'view_count', 'addtocart_count', 'transaction_count']\n",
    "item_popularity['conversion_rate'] = item_popularity['transaction_count'] / item_popularity['addtocart_count']\n",
    "\n",
    "## User-item interaction features\n",
    "user_item_interactions = df.groupby(['visitorid', 'itemid']).agg({\n",
    "    'event': 'count',\n",
    "    'timestamp': ['min', 'max']\n",
    "}).reset_index()\n",
    "\n",
    "user_item_interactions.columns = ['visitorid', 'itemid', 'interaction_count', 'first_interaction', 'last_interaction']\n",
    "user_item_interactions['time_between_interactions'] = user_item_interactions['last_interaction'] - user_item_interactions['first_interaction']\n",
    "\n",
    "## Merge the features into a single DataFrame\n",
    "user_features = user_behavior.drop(['first_interaction', 'last_interaction'], axis=1)\n",
    "item_features = item_popularity.drop(['view_count', 'addtocart_count', 'transaction_count'], axis=1)\n",
    "interaction_features = user_item_interactions.drop(['first_interaction', 'last_interaction'], axis=1)\n",
    "\n",
    "features = interaction_features.merge(user_features, on='visitorid').merge(item_features, on='itemid')"
   ]
  },
  {
   "cell_type": "code",
   "execution_count": 80,
   "id": "fc7ca118",
   "metadata": {},
   "outputs": [
    {
     "data": {
      "text/html": [
       "<div>\n",
       "<style scoped>\n",
       "    .dataframe tbody tr th:only-of-type {\n",
       "        vertical-align: middle;\n",
       "    }\n",
       "\n",
       "    .dataframe tbody tr th {\n",
       "        vertical-align: top;\n",
       "    }\n",
       "\n",
       "    .dataframe thead th {\n",
       "        text-align: right;\n",
       "    }\n",
       "</style>\n",
       "<table border=\"1\" class=\"dataframe\">\n",
       "  <thead>\n",
       "    <tr style=\"text-align: right;\">\n",
       "      <th></th>\n",
       "      <th>visitorid</th>\n",
       "      <th>itemid</th>\n",
       "      <th>interaction_count</th>\n",
       "      <th>time_between_interactions</th>\n",
       "      <th>item_count</th>\n",
       "      <th>property_count</th>\n",
       "      <th>category_count</th>\n",
       "      <th>avg_interaction_time</th>\n",
       "      <th>time_on_platform</th>\n",
       "      <th>time_between_actions</th>\n",
       "      <th>user_count</th>\n",
       "      <th>event_count</th>\n",
       "      <th>conversion_rate</th>\n",
       "    </tr>\n",
       "  </thead>\n",
       "  <tbody>\n",
       "    <tr>\n",
       "      <th>0</th>\n",
       "      <td>0</td>\n",
       "      <td>67045</td>\n",
       "      <td>1</td>\n",
       "      <td>0</td>\n",
       "      <td>3</td>\n",
       "      <td>0</td>\n",
       "      <td>0</td>\n",
       "      <td>1.442005e+12</td>\n",
       "      <td>327736</td>\n",
       "      <td>1.638680e+05</td>\n",
       "      <td>205</td>\n",
       "      <td>3</td>\n",
       "      <td>0.5</td>\n",
       "    </tr>\n",
       "    <tr>\n",
       "      <th>1</th>\n",
       "      <td>2304</td>\n",
       "      <td>67045</td>\n",
       "      <td>1</td>\n",
       "      <td>0</td>\n",
       "      <td>21</td>\n",
       "      <td>0</td>\n",
       "      <td>0</td>\n",
       "      <td>1.431566e+12</td>\n",
       "      <td>4357600</td>\n",
       "      <td>2.178800e+05</td>\n",
       "      <td>205</td>\n",
       "      <td>3</td>\n",
       "      <td>0.5</td>\n",
       "    </tr>\n",
       "    <tr>\n",
       "      <th>2</th>\n",
       "      <td>15257</td>\n",
       "      <td>67045</td>\n",
       "      <td>1</td>\n",
       "      <td>0</td>\n",
       "      <td>1</td>\n",
       "      <td>0</td>\n",
       "      <td>0</td>\n",
       "      <td>1.434802e+12</td>\n",
       "      <td>0</td>\n",
       "      <td>NaN</td>\n",
       "      <td>205</td>\n",
       "      <td>3</td>\n",
       "      <td>0.5</td>\n",
       "    </tr>\n",
       "    <tr>\n",
       "      <th>3</th>\n",
       "      <td>42552</td>\n",
       "      <td>67045</td>\n",
       "      <td>3</td>\n",
       "      <td>9717445035</td>\n",
       "      <td>158</td>\n",
       "      <td>0</td>\n",
       "      <td>0</td>\n",
       "      <td>1.435883e+12</td>\n",
       "      <td>10201702006</td>\n",
       "      <td>6.497899e+07</td>\n",
       "      <td>205</td>\n",
       "      <td>3</td>\n",
       "      <td>0.5</td>\n",
       "    </tr>\n",
       "    <tr>\n",
       "      <th>4</th>\n",
       "      <td>45810</td>\n",
       "      <td>67045</td>\n",
       "      <td>1</td>\n",
       "      <td>0</td>\n",
       "      <td>1</td>\n",
       "      <td>0</td>\n",
       "      <td>0</td>\n",
       "      <td>1.434829e+12</td>\n",
       "      <td>0</td>\n",
       "      <td>NaN</td>\n",
       "      <td>205</td>\n",
       "      <td>3</td>\n",
       "      <td>0.5</td>\n",
       "    </tr>\n",
       "  </tbody>\n",
       "</table>\n",
       "</div>"
      ],
      "text/plain": [
       "   visitorid  itemid  interaction_count  time_between_interactions  \\\n",
       "0          0   67045                  1                          0   \n",
       "1       2304   67045                  1                          0   \n",
       "2      15257   67045                  1                          0   \n",
       "3      42552   67045                  3                 9717445035   \n",
       "4      45810   67045                  1                          0   \n",
       "\n",
       "   item_count  property_count  category_count  avg_interaction_time  \\\n",
       "0           3               0               0          1.442005e+12   \n",
       "1          21               0               0          1.431566e+12   \n",
       "2           1               0               0          1.434802e+12   \n",
       "3         158               0               0          1.435883e+12   \n",
       "4           1               0               0          1.434829e+12   \n",
       "\n",
       "   time_on_platform  time_between_actions  user_count  event_count  \\\n",
       "0            327736          1.638680e+05         205            3   \n",
       "1           4357600          2.178800e+05         205            3   \n",
       "2                 0                   NaN         205            3   \n",
       "3       10201702006          6.497899e+07         205            3   \n",
       "4                 0                   NaN         205            3   \n",
       "\n",
       "   conversion_rate  \n",
       "0              0.5  \n",
       "1              0.5  \n",
       "2              0.5  \n",
       "3              0.5  \n",
       "4              0.5  "
      ]
     },
     "execution_count": 80,
     "metadata": {},
     "output_type": "execute_result"
    }
   ],
   "source": [
    "features.head(5)"
   ]
  },
  {
   "cell_type": "code",
   "execution_count": 3,
   "id": "30a9c782",
   "metadata": {},
   "outputs": [
    {
     "name": "stdout",
     "output_type": "stream",
     "text": [
      "Event counts for itemid 355908:\n",
      "{'view': 2, 'addtocart': 1}\n"
     ]
    }
   ],
   "source": [
    "import pandas as pd\n",
    "\n",
    "def count_events_for_itemid(data, itemid):\n",
    "    # Convert the data dictionary to a DataFrame\n",
    "    df = pd.DataFrame(data)\n",
    "    \n",
    "    # Filter the DataFrame for the specified itemid\n",
    "    item_data = df[df['itemid'] == itemid]\n",
    "    \n",
    "    # Count the occurrences of each event for the itemid\n",
    "    event_counts = item_data['event'].value_counts().to_dict()\n",
    "    \n",
    "    # Return the counts\n",
    "    return event_counts\n",
    "\n",
    "# Example usage\n",
    "data = {\n",
    "    'timestamp': [1433221332117, 1433224214164, 1433221999827, 1433221955914, 1433221337106],\n",
    "    'visitorid': [257597, 257597, 111016, 483717, 257597],\n",
    "    'event': ['view', 'transaction', 'view', 'addtocart', 'view'],\n",
    "    'itemid': [355908, 248676, 355908, 355908, 367447],\n",
    "    'transactionid': [None, None, None, None, None]\n",
    "}\n",
    "\n",
    "itemid_to_query = 355908  # Replace with the desired itemid\n",
    "result = count_events_for_itemid(data, itemid_to_query)\n",
    "\n",
    "print(f\"Event counts for itemid {itemid_to_query}:\")\n",
    "print(result)\n"
   ]
  },
  {
   "cell_type": "code",
   "execution_count": null,
   "id": "d0d31852",
   "metadata": {},
   "outputs": [],
   "source": []
  }
 ],
 "metadata": {
  "kernelspec": {
   "display_name": "Python 3 (ipykernel)",
   "language": "python",
   "name": "python3"
  },
  "language_info": {
   "codemirror_mode": {
    "name": "ipython",
    "version": 3
   },
   "file_extension": ".py",
   "mimetype": "text/x-python",
   "name": "python",
   "nbconvert_exporter": "python",
   "pygments_lexer": "ipython3",
   "version": "3.9.12"
  }
 },
 "nbformat": 4,
 "nbformat_minor": 5
}

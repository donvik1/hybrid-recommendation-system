{
 "cells": [
  {
   "cell_type": "code",
   "execution_count": 1,
   "id": "2b26ef3c",
   "metadata": {},
   "outputs": [
    {
     "name": "stderr",
     "output_type": "stream",
     "text": [
      "C:\\Users\\ZBOOK 15 G4\\anaconda3\\lib\\site-packages\\scipy\\__init__.py:146: UserWarning: A NumPy version >=1.16.5 and <1.23.0 is required for this version of SciPy (detected version 1.26.2\n",
      "  warnings.warn(f\"A NumPy version >={np_minversion} and <{np_maxversion}\"\n"
     ]
    },
    {
     "name": "stdout",
     "output_type": "stream",
     "text": [
      "5\n",
      "6\n",
      "7\n"
     ]
    }
   ],
   "source": [
    "import pandas as pd\n",
    "from surprise import Dataset, Reader\n",
    "from surprise.model_selection import train_test_split\n",
    "from surprise import SVD\n",
    "from sklearn.feature_extraction.text import TfidfVectorizer\n",
    "from sklearn.metrics.pairwise import linear_kernel\n",
    "\n",
    "# Load the dataset\n",
    "data = pd.read_csv('archive/events.csv')\n",
    "\n",
    "# Keep only the relevant columns (visitorid, itemid, and event type)\n",
    "data = data[['visitorid', 'itemid', 'event']]\n",
    "\n",
    "# Convert the item category column to a string representation\n",
    "data['category'] = data.groupby('itemid')['event'].transform(lambda x: ' '.join(x))\n",
    "print(5)\n",
    "# Create a TF-IDF vectorizer to convert the item category into numerical features\n",
    "tfidf_vectorizer = TfidfVectorizer(stop_words='english')\n",
    "tfidf_matrix = tfidf_vectorizer.fit_transform(data['category'])\n",
    "\n",
    "print(6)\n",
    "# Calculate the cosine similarity between items based on their categories\n",
    "# cosine_sim = linear_kernel(tfidf_matrix, tfidf_matrix)\n",
    "print(7)\n",
    "# Function to get content-based recommendations for a given item\n",
    "def get_content_based_recommendations(item_id, tfidf_matrix=tfidf_matrix, cosine_sim=None, top_n=10):\n",
    "    # Calculate the cosine similarity scores for the given item only\n",
    "    if cosine_sim is None:\n",
    "        item_vector = tfidf_matrix[data[data['itemid'] == item_id].index[0]]\n",
    "        cosine_sim = linear_kernel(item_vector, tfidf_matrix).flatten()\n",
    "    else:\n",
    "        idx = data[data['itemid'] == item_id].index[0]\n",
    "        cosine_sim = cosine_sim[idx]\n",
    "\n",
    "    # Get the indices of the top N similar items\n",
    "    sim_scores = sorted(enumerate(cosine_sim), key=lambda x: x[1], reverse=True)\n",
    "    sim_scores = sim_scores[1:top_n + 1]\n",
    "    item_indices = [i[0] for i in sim_scores]\n",
    "\n",
    "    return data['itemid'].iloc[item_indices]"
   ]
  },
  {
   "cell_type": "code",
   "execution_count": 2,
   "id": "22515f06",
   "metadata": {},
   "outputs": [],
   "source": [
    "user_item_interactions = {}\n",
    "for _, row in data.iterrows():\n",
    "    user_id = row['visitorid']\n",
    "    item_id = row['itemid']\n",
    "    if user_id not in user_item_interactions:\n",
    "        user_item_interactions[user_id] = []\n",
    "    user_item_interactions[user_id].append(item_id)\n"
   ]
  },
  {
   "cell_type": "code",
   "execution_count": null,
   "id": "2be14dfa",
   "metadata": {},
   "outputs": [],
   "source": [
    "predicted_recommendations = {}\n",
    "for user_id, interacted_items in user_item_interactions.items():\n",
    "    # Get top N recommendations\n",
    "    recommended_items = get_content_based_recommendations(interacted_items[0], tfidf_matrix, cosine_sim=None, top_n=10)\n",
    "\n",
    "    # Store recommendations for this user\n",
    "    predicted_recommendations[user_id] = recommended_items\n"
   ]
  },
  {
   "cell_type": "code",
   "execution_count": null,
   "id": "3db7eeed",
   "metadata": {},
   "outputs": [],
   "source": [
    "from scipy.spatial.distance import cosine\n",
    "\n",
    "rmse = 0.0\n",
    "mae = 0.0\n",
    "total_interactions = 0\n",
    "\n",
    "for user_id, interacted_items in user_item_interactions.items():\n",
    "    for item_id in interacted_items:\n",
    "        recommended_items = predicted_recommendations[user_id]\n",
    "        for recommended_item in recommended_items:\n",
    "            item_vector = tfidf_matrix[data[data['itemid'] == recommended_item].index[0]]\n",
    "            interacted_item_vector = tfidf_matrix[data[data['itemid'] == item_id].index[0]]\n",
    "            distance = cosine(item_vector, interacted_item_vector)\n",
    "\n",
    "            rmse += (distance - 0)**2\n",
    "            mae += abs(distance - 0)\n",
    "\n",
    "            total_interactions += 1\n",
    "\n",
    "rmse = math.sqrt(rmse / total_interactions)\n",
    "mae = mae / total_interactions\n",
    "\n",
    "print(f\"RMSE: {rmse:.4f}\")\n",
    "print(f\"MAE: {mae:.4f}\")\n"
   ]
  }
 ],
 "metadata": {
  "kernelspec": {
   "display_name": "Python 3 (ipykernel)",
   "language": "python",
   "name": "python3"
  },
  "language_info": {
   "codemirror_mode": {
    "name": "ipython",
    "version": 3
   },
   "file_extension": ".py",
   "mimetype": "text/x-python",
   "name": "python",
   "nbconvert_exporter": "python",
   "pygments_lexer": "ipython3",
   "version": "3.9.12"
  }
 },
 "nbformat": 4,
 "nbformat_minor": 5
}
